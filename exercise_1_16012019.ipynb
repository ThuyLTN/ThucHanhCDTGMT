{
  "nbformat": 4,
  "nbformat_minor": 0,
  "metadata": {
    "colab": {
      "name": "exercise_1_16012019.ipynb",
      "version": "0.3.2",
      "provenance": [],
      "include_colab_link": true
    },
    "kernelspec": {
      "name": "python3",
      "display_name": "Python 3"
    }
  },
  "cells": [
    {
      "cell_type": "markdown",
      "metadata": {
        "id": "view-in-github",
        "colab_type": "text"
      },
      "source": [
        "<a href=\"https://colab.research.google.com/github/ThuyLTN/ThucHanhCDTGMT/blob/master/exercise_1_16012019.ipynb\" target=\"_parent\"><img src=\"https://colab.research.google.com/assets/colab-badge.svg\" alt=\"Open In Colab\"/></a>"
      ]
    },
    {
      "metadata": {
        "id": "wwYJJxT9MHUU",
        "colab_type": "code",
        "colab": {
          "base_uri": "https://localhost:8080/",
          "height": 212
        },
        "outputId": "a6d5b2f8-8fb2-4ed9-e845-de331c53f5da"
      },
      "cell_type": "code",
      "source": [
        "!wget https://farm5.staticflickr.com/4091/4994221690_fc41215f39_o_d.jpg\n",
        "!mv 4994221690_fc41215f39_o_d.jpg mug.jpg"
      ],
      "execution_count": 1,
      "outputs": [
        {
          "output_type": "stream",
          "text": [
            "--2019-01-23 05:32:42--  https://farm5.staticflickr.com/4091/4994221690_fc41215f39_o_d.jpg\n",
            "Resolving farm5.staticflickr.com (farm5.staticflickr.com)... 67.195.205.33\n",
            "Connecting to farm5.staticflickr.com (farm5.staticflickr.com)|67.195.205.33|:443... connected.\n",
            "HTTP request sent, awaiting response... 200 OK\n",
            "Length: 523749 (511K) [image/jpeg]\n",
            "Saving to: ‘4994221690_fc41215f39_o_d.jpg’\n",
            "\n",
            "4994221690_fc41215f 100%[===================>] 511.47K  1.08MB/s    in 0.5s    \n",
            "\n",
            "2019-01-23 05:32:43 (1.08 MB/s) - ‘4994221690_fc41215f39_o_d.jpg’ saved [523749/523749]\n",
            "\n"
          ],
          "name": "stdout"
        }
      ]
    },
    {
      "metadata": {
        "id": "YrWnvN6MMOkT",
        "colab_type": "code",
        "colab": {
          "base_uri": "https://localhost:8080/",
          "height": 123
        },
        "outputId": "2a85f7da-8a2f-4a2f-ebf7-65b324675706"
      },
      "cell_type": "code",
      "source": [
        "from keras.preprocessing.image import load_img\n",
        "from keras.preprocessing.image import img_to_array\n",
        "from keras.applications.vgg16 import preprocess_input\n",
        "from keras.applications.vgg16 import decode_predictions\n",
        "from keras.applications.vgg16 import VGG16\n",
        "# load the model\n",
        "model = VGG16()\n",
        "# load an image from file\n",
        "image = load_img('mug.jpg', target_size=(224, 224))\n",
        "# convert the image pixels to a numpy array\n",
        "image = img_to_array(image)\n",
        "# reshape data for the model\n",
        "image = image.reshape((1, image.shape[0], image.shape[1], image.shape[2]))\n",
        "# prepare the image for the VGG model\n",
        "image = preprocess_input(image)\n",
        "# predict the probability across all output classes\n",
        "yhat = model.predict(image)\n",
        "# convert the probabilities to class labels\n",
        "label = decode_predictions(yhat)\n",
        "# retrieve the most likely result, e.g. highest probability\n",
        "label = label[0][0]\n",
        "# print the classification\n",
        "print('%s (%.2f%%)' % (label[1], label[2]*100))"
      ],
      "execution_count": 2,
      "outputs": [
        {
          "output_type": "stream",
          "text": [
            "Using TensorFlow backend.\n"
          ],
          "name": "stderr"
        },
        {
          "output_type": "stream",
          "text": [
            "Downloading data from https://github.com/fchollet/deep-learning-models/releases/download/v0.1/vgg16_weights_tf_dim_ordering_tf_kernels.h5\n",
            "553467904/553467096 [==============================] - 6s 0us/step\n",
            "Downloading data from https://s3.amazonaws.com/deep-learning-models/image-models/imagenet_class_index.json\n",
            "40960/35363 [==================================] - 0s 0us/step\n",
            "coffee_mug (78.71%)\n"
          ],
          "name": "stdout"
        }
      ]
    }
  ]
}